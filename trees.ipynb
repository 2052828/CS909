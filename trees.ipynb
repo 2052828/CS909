{
  "nbformat": 4,
  "nbformat_minor": 0,
  "metadata": {
    "colab": {
      "name": "evaluation_example.ipynb",
      "provenance": [],
      "collapsed_sections": [],
      "authorship_tag": "ABX9TyN/cYzO33+GVl1oylwX5Iww",
      "include_colab_link": true
    },
    "kernelspec": {
      "name": "python3",
      "display_name": "Python 3"
    }
  },
  "cells": [
    {
      "cell_type": "markdown",
      "metadata": {
        "id": "view-in-github",
        "colab_type": "text"
      },
      "source": [
        "<a href=\"https://colab.research.google.com/github/foxtrotmike/CS909/blob/master/trees.ipynb\" target=\"_parent\"><img src=\"https://colab.research.google.com/assets/colab-badge.svg\" alt=\"Open In Colab\"/></a>"
      ]
    },
    {
      "cell_type": "code",
      "metadata": {
        "id": "dvgzgm4PzVGS",
        "colab_type": "code",
        "colab": {}
      },
      "source": [
        "from numpy.random import randn #importing randn\n",
        "import numpy as np #importing numpy\n",
        "import matplotlib.pyplot as plt #importing plotting module\n",
        "import itertools\n",
        "import warnings\n",
        "\n",
        "def plotit(X,Y=None,clf=None,  conts = None, ccolors = ('b','k','r'), colors = ('c','y'), markers = ('s','o'), hold = False, transform = None,extent = None,**kwargs):\n",
        "    \"\"\"\n",
        "    A function for showing data scatter plot and classification boundary\n",
        "    of a classifier for 2D data\n",
        "        X: nxd  matrix of data points\n",
        "        Y: (optional) n vector of class labels\n",
        "        clf: (optional) classification/discriminant function handle\n",
        "        conts: (optional) contours (if None, contours are drawn for each class boundary)\n",
        "        ccolors: (optional) colors for contours   \n",
        "        colors: (optional) colors for each class (sorted wrt class id)\n",
        "            can be 'scaled' or 'random' or a list/tuple of color ids\n",
        "        markers: (optional) markers for each class (sorted wrt class id)\n",
        "        hold: Whether to hold the plot or not for overlay (default: False).\n",
        "        transform: (optional) a function handle for transforming data before passing to clf\n",
        "        kwargs: any keyword arguments to be passed to clf (if any)        \n",
        "    \"\"\"\n",
        "    if clf is not None and X.shape[1]!=2:\n",
        "        warnings.warn(\"Data Dimensionality is not 2. Unable to plot.\")\n",
        "        return\n",
        "    if markers is None:\n",
        "        markers = ('.',)\n",
        "    eps=1e-6\n",
        "    d0,d1 = (0,1)\n",
        "    if extent is None:\n",
        "        minx, maxx = np.min(X[:,d0])-eps, np.max(X[:,d0])+eps\n",
        "        miny, maxy = np.min(X[:,d1])-eps, np.max(X[:,d1])+eps\n",
        "        extent = [minx,maxx,miny,maxy]\n",
        "    else:\n",
        "        [minx,maxx,miny,maxy] = extent\n",
        "    if Y is not None:\n",
        "        classes = sorted(set(Y))\n",
        "        if conts is None:\n",
        "            conts = list(classes)        \n",
        "        vmin,vmax = classes[0]-eps,classes[-1]+eps\n",
        "    else:\n",
        "        vmin,vmax=-2-eps,2+eps\n",
        "        if conts is None:            \n",
        "            conts = sorted([-1+eps,0,1-eps])\n",
        "        \n",
        "    if clf is not None:\n",
        "        npts = 150\n",
        "        x = np.linspace(minx,maxx,npts)\n",
        "        y = np.linspace(miny,maxy,npts)\n",
        "        t = np.array(list(itertools.product(x,y)))\n",
        "        if transform is not None:\n",
        "            t = transform(t)\n",
        "        z = clf(t,**kwargs)\n",
        "        \n",
        "        z = np.reshape(z,(npts,npts)).T        \n",
        "        \n",
        "        \n",
        "        plt.contour(x,y,z,conts,linewidths = [2],colors=ccolors,extent=extent, label='f(x)=0')\n",
        "        #plt.imshow(np.flipud(z), extent = extent, cmap=plt.cm.Purples, vmin = -2, vmax = +2); plt.colorbar()\n",
        "        plt.pcolormesh(x, y, z,cmap=plt.cm.Purples,vmin=vmin,vmax=vmax);plt.colorbar()\n",
        "        plt.axis(extent)\n",
        "    \n",
        "    if Y is not None:        \n",
        "        for i,y in enumerate(classes):\n",
        "            if colors is None or colors=='scaled':\n",
        "                cc = np.array([[i,i,i]])/float(len(classes))\n",
        "            elif colors =='random':\n",
        "                cc = np.array([[np.random.rand(),np.random.rand(),np.random.rand()]])\n",
        "            else:\n",
        "                cc = colors[i%len(colors)]\n",
        "            mm = markers[i%len(markers)]\n",
        "            plt.scatter(X[Y==y,d0],X[Y==y,d1], marker = mm,c = cc, s = 30)     \n",
        "         \n",
        "    else:\n",
        "        plt.scatter(X[:,d0],X[:,d1],marker = markers[0], c = 'k', s = 5)\n",
        "    plt.xlabel('$x_1$')\n",
        "    plt.ylabel('$x_2$')   \n",
        "    if not hold:\n",
        "        plt.grid()        \n",
        "        plt.show()\n",
        "    return extent\n",
        "\n",
        "def getExamples(n=100,d=2):\n",
        "    \"\"\"\n",
        "    Generates n d-dimensional normally distributed examples of each class        \n",
        "    The mean of the positive class is [1] and for the negative class it is [-1]\n",
        "    \"\"\"\n",
        "    Xp = randn(n,d)#+1   #generate n examples of the positie class\n",
        "    Xp=Xp+1\n",
        "    Xn1 = randn(int(n/2),d)#-1   #generate n examples of the negative class\n",
        "    Xn1=Xn1-1\n",
        "    Xn2 = randn(int(n/2),d)#-1   #generate n examples of the negative class\n",
        "    Xn2=Xn2+2\n",
        "    Xn = np.vstack((Xn1,Xn2))  #Stack the examples together to a single matrix\n",
        "    X = np.vstack((Xp,Xn))  #Stack the examples together to a single matrix\n",
        "    Y = np.array([+1]*n+[-1]*n) #Associate Labels\n",
        "    return (X,Y) "
      ],
      "execution_count": 0,
      "outputs": []
    },
    {
      "cell_type": "code",
      "metadata": {
        "id": "AQasnnxPYyPe",
        "colab_type": "code",
        "colab": {}
      },
      "source": [
        "from sklearn.model_selection import train_test_split\n",
        "\n",
        "X,y = getExamples(n=100)\n",
        "Xtr, Xv, ytr, yv = train_test_split(X, y, test_size=0.2, shuffle = True, stratify = None)#, random_state=42)"
      ],
      "execution_count": 0,
      "outputs": []
    },
    {
      "cell_type": "code",
      "metadata": {
        "id": "_nBpCZfD1EpT",
        "colab_type": "code",
        "colab": {
          "base_uri": "https://localhost:8080/",
          "height": 459
        },
        "outputId": "ae31968d-2611-4bd0-a87d-8a389b9435d2"
      },
      "source": [
        "from sklearn import tree \n",
        "clf = tree.DecisionTreeClassifier(max_depth = 1)\n",
        "clf.fit(Xtr,ytr)\n",
        "zv = clf.predict_proba(Xv)[:,1] # decision trees do not produce decision_function\n",
        "print('Probilities',zv)\n",
        "# calculate the number of true poisitives and false positives at a threshold of t\n",
        "from sklearn.metrics import roc_auc_score\n",
        "print('AUC-ROC',roc_auc_score(yv,zv))\n",
        "plt.figure() \n",
        "plotit(X = X, Y = y, clf = clf.predict, conts =[-1,0,1], colors = 'random')"
      ],
      "execution_count": 53,
      "outputs": [
        {
          "output_type": "stream",
          "text": [
            "Probilities [0.         0.         0.38461538 0.38461538 0.84745763 0.84745763\n",
            " 0.22222222 0.38461538 0.84745763 0.22222222 0.84745763 0.84745763\n",
            " 0.         0.22222222 0.         0.38461538 1.         0.84745763\n",
            " 0.22222222 0.84745763 0.         0.22222222 0.84745763 0.38461538\n",
            " 0.84745763 0.38461538 0.38461538 0.84745763 0.22222222 0.84745763\n",
            " 0.84745763 0.22222222 0.         0.84745763 0.84745763 0.\n",
            " 0.84745763 0.         0.38461538 0.38461538]\n",
            "AUC-ROC 0.7747252747252749\n"
          ],
          "name": "stdout"
        },
        {
          "output_type": "stream",
          "text": [
            "/usr/local/lib/python3.6/dist-packages/ipykernel_launcher.py:58: UserWarning: The following kwargs were not used by contour: 'label'\n"
          ],
          "name": "stderr"
        },
        {
          "output_type": "display_data",
          "data": {
            "image/png": "[encoded data removed]",
            "text/plain": [
              "<Figure size 432x288 with 2 Axes>"
            ]
          },
          "metadata": {
            "tags": []
          }
        },
        {
          "output_type": "execute_result",
          "data": {
            "text/plain": [
              "[-3.572258276280874, 4.186311408373004, -2.9765043072002806, 4.411686955399236]"
            ]
          },
          "metadata": {
            "tags": []
          },
          "execution_count": 53
        }
      ]
    },
    {
      "cell_type": "code",
      "metadata": {
        "id": "PYY32livzfQV",
        "colab_type": "code",
        "colab": {
          "base_uri": "https://localhost:8080/",
          "height": 69
        },
        "outputId": "cd316828-82c7-40fa-87f7-1d0e70e56cee"
      },
      "source": [
        "!pip install xgboost\n",
        "from xgboost import XGBClassifier\n"
      ],
      "execution_count": 55,
      "outputs": [
        {
          "output_type": "stream",
          "text": [
            "Requirement already satisfied: xgboost in /usr/local/lib/python3.6/dist-packages (0.90)\n",
            "Requirement already satisfied: scipy in /usr/local/lib/python3.6/dist-packages (from xgboost) (1.4.1)\n",
            "Requirement already satisfied: numpy in /usr/local/lib/python3.6/dist-packages (from xgboost) (1.17.5)\n"
          ],
          "name": "stdout"
        }
      ]
    },
    {
      "cell_type": "code",
      "metadata": {
        "id": "W2e-D1SM1rLt",
        "colab_type": "code",
        "colab": {
          "base_uri": "https://localhost:8080/",
          "height": 459
        },
        "outputId": "e1c41d57-853f-4d30-9f48-d1bc17a2b6df"
      },
      "source": [
        "clf = XGBClassifier(n_estimators=10, max_depth = 2, gamma = 0)\n",
        "clf.fit(Xtr,ytr)\n",
        "zv = clf.predict_proba(Xv)[:,1] # decision trees do not produce decision_function\n",
        "print('Probilities',zv)\n",
        "# calculate the number of true poisitives and false positives at a threshold of t\n",
        "from sklearn.metrics import roc_auc_score\n",
        "print('AUC-ROC',roc_auc_score(yv,zv))\n",
        "plt.figure() \n",
        "plotit(X = X, Y = y, clf = clf.predict, conts =[-1,0,1], colors = 'random')"
      ],
      "execution_count": 61,
      "outputs": [
        {
          "output_type": "stream",
          "text": [
            "Probilities [0.35460436 0.35460436 0.454043   0.454043   0.61971927 0.61971927\n",
            " 0.39094943 0.454043   0.61971927 0.5255782  0.61971927 0.61971927\n",
            " 0.35460436 0.51845264 0.20761825 0.454043   0.2679913  0.61971927\n",
            " 0.51845264 0.61971927 0.20761825 0.5816378  0.61971927 0.454043\n",
            " 0.61971927 0.454043   0.454043   0.61971927 0.51845264 0.61971927\n",
            " 0.61971927 0.51845264 0.2679913  0.61971927 0.61971927 0.35460436\n",
            " 0.61971927 0.39947283 0.454043   0.454043  ]\n",
            "AUC-ROC 0.8255494505494506\n"
          ],
          "name": "stdout"
        },
        {
          "output_type": "stream",
          "text": [
            "/usr/local/lib/python3.6/dist-packages/ipykernel_launcher.py:58: UserWarning: The following kwargs were not used by contour: 'label'\n"
          ],
          "name": "stderr"
        },
        {
          "output_type": "display_data",
          "data": {
            "image/png": "[encoded data removed]",
            "text/plain": [
              "<Figure size 432x288 with 2 Axes>"
            ]
          },
          "metadata": {
            "tags": []
          }
        },
        {
          "output_type": "execute_result",
          "data": {
            "text/plain": [
              "[-3.572258276280874, 4.186311408373004, -2.9765043072002806, 4.411686955399236]"
            ]
          },
          "metadata": {
            "tags": []
          },
          "execution_count": 61
        }
      ]
    },
    {
      "cell_type": "code",
      "metadata": {
        "id": "-RMNedUX2DeC",
        "colab_type": "code",
        "colab": {}
      },
      "source": [
        ""
      ],
      "execution_count": 0,
      "outputs": []
    },
    {
      "cell_type": "code",
      "metadata": {
        "id": "QKUNRB-X2Gk6",
        "colab_type": "code",
        "colab": {}
      },
      "source": [
        ""
      ],
      "execution_count": 0,
      "outputs": []
    }
  ]
}