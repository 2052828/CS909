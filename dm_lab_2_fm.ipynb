{
  "nbformat": 4,
  "nbformat_minor": 0,
  "metadata": {
    "kernelspec": {
      "display_name": "Python 3",
      "language": "python",
      "name": "python3"
    },
    "language_info": {
      "codemirror_mode": {
        "name": "ipython",
        "version": 3
      },
      "file_extension": ".py",
      "mimetype": "text/x-python",
      "name": "python",
      "nbconvert_exporter": "python",
      "pygments_lexer": "ipython3",
      "version": "3.7.5"
    },
    "colab": {
      "name": "dm_lab-2_fm.ipynb",
      "provenance": [],
      "include_colab_link": true
    }
  },
  "cells": [
    {
      "cell_type": "markdown",
      "metadata": {
        "id": "view-in-github",
        "colab_type": "text"
      },
      "source": [
        "<a href=\"https://colab.research.google.com/github/foxtrotmike/CS909/blob/master/dm_lab_2_fm.ipynb\" target=\"_parent\"><img src=\"https://colab.research.google.com/assets/colab-badge.svg\" alt=\"Open In Colab\"/></a>"
      ]
    },
    {
      "cell_type": "markdown",
      "metadata": {
        "id": "H5YY8bbnZI9T"
      },
      "source": [
        "# Exercise-2\n",
        "## by Fayyaz Minhas\n",
        "## Gradient Descent and Perceptron\n"
      ]
    },
    {
      "cell_type": "markdown",
      "metadata": {
        "id": "U1YPXeG3ZI9X"
      },
      "source": [
        "# Understanding gradient Descent\n",
        "\n",
        "We discussed how gradient descent works for solving optimization problems: By taking steps in a direction opposite to the gradient. Below is a very simple implementation for this method. Based on this, can you:\n",
        "1. Try to understand how Gradient Descent Works\n",
        "2. Can you find the  minima of the following function: $f(x)=2x^2-x$. You will need to update the implementation of the function and its derivative in the code for this.\n",
        "3. What happens when you use: $f(x)=sin(3x)$? Is this function convex?\n",
        "4. What do you think are the limitations of gradient descent for non-convex functions?\n",
        "5. What happens when you change the learning rate parameter (step size)?\n",
        "6. You can also look into questions posted as part of the self assessment exercise.\n",
        "\n"
      ]
    },
    {
      "cell_type": "code",
      "metadata": {
        "id": "6vNkYFhYZI9Y",
        "colab": {
          "base_uri": "https://localhost:8080/",
          "height": 295
        },
        "outputId": "02c1eeae-c2c8-4367-b5b3-7b9078889313"
      },
      "source": [
        "import numpy as np\n",
        "\n",
        "def gd(f,df,x0=0.0,lr = 0.01,eps=1e-4,nmax=1000, history = True):\n",
        "    \"\"\"\n",
        "    Implementation of a gradient descent solver.\n",
        "        f: function, f(x) returns value of f(x) for a given x\n",
        "        df: gradient function df(x) returns the gradient at x\n",
        "        x0: initial position [Default 0.0]\n",
        "        lr: learning rate [0.001]\n",
        "        eps: min step size threshold [1e-4]\n",
        "        nmax: maximum number of iters [1000]\n",
        "        history: whether to store history of x or not [True]\n",
        "    Returns:\n",
        "        x: argmin_x f(x)\n",
        "        converged: True if the final step size is less than eps else false\n",
        "        H: history\n",
        "    \"\"\"\n",
        "    H = []\n",
        "    x = x0\n",
        "    if history:\n",
        "        H = [[x,f(x)]]\n",
        "    for i in range(nmax):\n",
        "        dx = -lr*df(x) #gradient step\n",
        "        if np.linalg.norm(dx)<eps: # if the step taken is too small, we have converged\n",
        "            break\n",
        "        if history:\n",
        "            H.append([x+dx,f(x+dx)])\n",
        "        x = x+dx #gradient update\n",
        "    converged = np.linalg.norm(dx)<eps        \n",
        "    return x,converged,np.array(H)\n",
        "    \n",
        "if __name__=='__main__':\n",
        "    import matplotlib.pyplot as plt\n",
        "    def f(x):\n",
        "        y = x**2 \n",
        "        return y\n",
        "    def df(x):\n",
        "        dy = 2*x\n",
        "        return dy\n",
        "    \n",
        "\n",
        "    z = np.linspace(-3,3,100)\n",
        "    #select random initial point in the range\n",
        "    x0 = np.min(z)+(np.max(z)-np.min(z))*np.random.rand()\n",
        "    \n",
        "    x,c,H = gd(f,df,x0=x0,lr = 0.01,eps=1e-4,nmax=1000, history = True) \n",
        "    \n",
        "    plt.plot(z,f(z)); plt.plot(z,df(z));\n",
        "    plt.legend(['f(x)','df(x)'])\n",
        "    plt.xlabel('x');plt.ylabel('value')\n",
        "    s = 'Convergence in '+str(len(H))+' steps'\n",
        "    if not c:\n",
        "        s = 'No '+s\n",
        "    plt.title(s)\n",
        "    plt.plot(H[0,0],H[0,1],'ko',markersize=10)\n",
        "    plt.plot(H[:,0],H[:,1],'r.-')\n",
        "    plt.plot(H[-1,0],H[-1,1],'k*',markersize=10)    \n",
        "    plt.grid(); plt.show()"
      ],
      "execution_count": 10,
      "outputs": [
        {
          "output_type": "display_data",
          "data": {
            "image/png": "[encoded data removed]",
            "text/plain": [
              "<Figure size 432x288 with 1 Axes>"
            ]
          },
          "metadata": {
            "tags": [],
            "needs_background": "light"
          }
        }
      ]
    },
    {
      "cell_type": "markdown",
      "metadata": {
        "id": "xeDlmiHrPRkI"
      },
      "source": [
        "## Importing plotit\r\n",
        "\r\n",
        "To use the code in the following exercises you will need to execute the cell below\r\n"
      ]
    },
    {
      "cell_type": "code",
      "metadata": {
        "id": "pWhbEdVpPQDk"
      },
      "source": [
        "from numpy.random import randn #importing randn\r\n",
        "import numpy as np #importing numpy\r\n",
        "import matplotlib.pyplot as plt #importing plotting module\r\n",
        "import itertools\r\n",
        "import warnings\r\n",
        "\r\n",
        "def plotit(X,Y=None,clf=None,  conts = None, ccolors = ('b','k','r'), colors = ('c','y'), markers = ('s','o'), hold = False, transform = None,extent = None,**kwargs):\r\n",
        "    \"\"\"\r\n",
        "    A function for showing data scatter plot and classification boundary\r\n",
        "    of a classifier for 2D data\r\n",
        "        X: nxd  matrix of data points\r\n",
        "        Y: (optional) n vector of class labels\r\n",
        "        clf: (optional) classification/discriminant function handle\r\n",
        "        conts: (optional) contours (if None, contours are drawn for each class boundary)\r\n",
        "        ccolors: (optional) colors for contours   \r\n",
        "        colors: (optional) colors for each class (sorted wrt class id)\r\n",
        "            can be 'scaled' or 'random' or a list/tuple of color ids\r\n",
        "        markers: (optional) markers for each class (sorted wrt class id)\r\n",
        "        hold: Whether to hold the plot or not for overlay (default: False).\r\n",
        "        transform: (optional) a function handle for transforming data before passing to clf\r\n",
        "        kwargs: any keyword arguments to be passed to clf (if any)        \r\n",
        "    \"\"\"\r\n",
        "    if clf is not None and X.shape[1]!=2:\r\n",
        "        warnings.warn(\"Data Dimensionality is not 2. Unable to plot.\")\r\n",
        "        return\r\n",
        "    if markers is None:\r\n",
        "        markers = ('.',)\r\n",
        "    eps=1e-6\r\n",
        "    d0,d1 = (0,1)\r\n",
        "    if extent is None:\r\n",
        "        minx, maxx = np.min(X[:,d0])-eps, np.max(X[:,d0])+eps\r\n",
        "        miny, maxy = np.min(X[:,d1])-eps, np.max(X[:,d1])+eps\r\n",
        "        extent = [minx,maxx,miny,maxy]\r\n",
        "    else:\r\n",
        "        [minx,maxx,miny,maxy] = extent\r\n",
        "    if Y is not None:\r\n",
        "        classes = sorted(set(Y))\r\n",
        "        if conts is None or len(conts)<2:\r\n",
        "            #conts = list(classes)\r\n",
        "            vmin,vmax = classes[0]-eps,classes[-1]+eps\r\n",
        "        else:            \r\n",
        "            vmin,vmax= np.min(conts)-eps,np.max(conts)+eps\r\n",
        "        \r\n",
        "    else:\r\n",
        "        vmin,vmax=-2-eps,2+eps\r\n",
        "        if conts is None or len(conts)<2:            \r\n",
        "            conts = sorted([-1+eps,0,1-eps])\r\n",
        "        else:\r\n",
        "            vmin,vmax= np.min(conts)-eps,np.max(conts)+eps\r\n",
        "        \r\n",
        "    if clf is not None:\r\n",
        "        npts = 150\r\n",
        "        x = np.linspace(minx,maxx,npts)\r\n",
        "        y = np.linspace(miny,maxy,npts)\r\n",
        "        t = np.array(list(itertools.product(x,y)))\r\n",
        "        if transform is not None:\r\n",
        "            t = transform(t)\r\n",
        "        z = clf(t,**kwargs)\r\n",
        "        \r\n",
        "        z = np.reshape(z,(npts,npts)).T        \r\n",
        "        \r\n",
        "        \r\n",
        "        plt.contour(x,y,z,conts,linewidths = [2],colors=ccolors,extent=extent, label='f(x)=0')\r\n",
        "        #plt.imshow(np.flipud(z), extent = extent, cmap=plt.cm.Purples, vmin = -2, vmax = +2); plt.colorbar()\r\n",
        "        plt.pcolormesh(x, y, z,cmap=plt.cm.Purples,vmin=vmin,vmax=vmax);plt.colorbar()\r\n",
        "        plt.axis(extent)\r\n",
        "    \r\n",
        "    if Y is not None:        \r\n",
        "        for i,y in enumerate(classes):\r\n",
        "            \r\n",
        "            if colors is None or colors=='scaled':\r\n",
        "                cc = np.array([[i,i,i]])/float(len(classes))\r\n",
        "            elif colors =='random':\r\n",
        "                cc = np.array([[np.random.rand(),np.random.rand(),np.random.rand()]])\r\n",
        "            else:\r\n",
        "                cc = colors[i%len(colors)]\r\n",
        "            \r\n",
        "            mm = markers[i%len(markers)]\r\n",
        "            plt.scatter(X[Y==y,d0],X[Y==y,d1], marker = mm,c = cc, s = 50)     \r\n",
        "         \r\n",
        "    else:\r\n",
        "        plt.scatter(X[:,d0],X[:,d1],marker = markers[0], c = 'k', s = 5)\r\n",
        "    plt.xlabel('$x_1$')\r\n",
        "    plt.ylabel('$x_2$')   \r\n",
        "    if not hold:\r\n",
        "        plt.grid()        \r\n",
        "        plt.show()\r\n",
        "    return extent"
      ],
      "execution_count": 11,
      "outputs": []
    },
    {
      "cell_type": "markdown",
      "metadata": {
        "id": "RpKV63D0ZI9e"
      },
      "source": [
        "## Trying out Perceptron!\n",
        "\n",
        "Let's try a single Perceptron on the same toy problem. More help on using Perceptron in sk-learn is available [here](https://scikit-learn.org/stable/modules/generated/sklearn.linear_model.Perceptron.html). Here are some questions for you:\n",
        "\n",
        "1. What are your observations about the line that is drawn by this predictor? \n",
        "2. What happens to the line if you change the data?\n",
        "3. Is this line optimal? \n",
        "4. Can you predict the score and class label for a new test point, say [2,0]? Is this point classified correctly?\n",
        "5. You can use clf.coef_ and clf.intercept_ to get the weight vector and bias learned by the method. What do these weights and their signs tell you about your data? Try changing the data and observe how that impacts the weight vector. Solve the AND, OR and XOR problems.\n",
        "6. What happens when your data is not linearly separable?"
      ]
    },
    {
      "cell_type": "code",
      "metadata": {
        "id": "b1eqqLKMZI9e",
        "colab": {
          "base_uri": "https://localhost:8080/",
          "height": 358
        },
        "outputId": "6b4dace1-6b1a-443f-b729-07aa8e26d0c1"
      },
      "source": [
        "from sklearn.linear_model import Perceptron\n",
        "clf = Perceptron()\n",
        "X = np.array([[-1,0],[0,1],[4,4],[2,3]])\n",
        "y = np.array([-1,-1,+1,+1])\n",
        "clf.fit(X,y)\n",
        "plotit(X,y,clf=clf.decision_function,conts=[0.0])\n",
        "print(\"Learned Weights: \",clf.coef_)\n",
        "print(\"Bias: \",clf.intercept_)"
      ],
      "execution_count": 15,
      "outputs": [
        {
          "output_type": "stream",
          "text": [
            "/usr/local/lib/python3.6/dist-packages/ipykernel_launcher.py:63: UserWarning: The following kwargs were not used by contour: 'label'\n"
          ],
          "name": "stderr"
        },
        {
          "output_type": "display_data",
          "data": {
            "image/png": "[encoded data removed]",
            "text/plain": [
              "<Figure size 432x288 with 2 Axes>"
            ]
          },
          "metadata": {
            "tags": [],
            "needs_background": "light"
          }
        },
        {
          "output_type": "stream",
          "text": [
            "Learned Weights:  [[2. 0.]]\n",
            "Bias:  [-2.]\n"
          ],
          "name": "stdout"
        }
      ]
    },
    {
      "cell_type": "markdown",
      "metadata": {
        "id": "97krRNHtZI9g"
      },
      "source": [
        "## Classifying digits\n",
        "Below is a code for classifying between MNIST digits (7 vs 9) using nearest neighbor and Perceptron classifiers. Please try to understand the code and answer the following questions."
      ]
    },
    {
      "cell_type": "code",
      "metadata": {
        "id": "DdYgrb4lZI9g",
        "colab": {
          "base_uri": "https://localhost:8080/",
          "height": 864
        },
        "outputId": "307804a8-af7b-454f-9473-b3f3fcb5a9a7"
      },
      "source": [
        "import numpy as np\n",
        "from sklearn.datasets import load_digits\n",
        "import random\n",
        "from sklearn.neighbors import KNeighborsClassifier\n",
        "from sklearn.linear_model import LinearRegression as OLS\n",
        "import matplotlib.pyplot as plt\n",
        "digN,digP = 7,9\n",
        "X,y = load_digits(n_class=10, return_X_y=True)\n",
        "idx = (y==digP) + (y==digN) #Just focus on 7 and 9\n",
        "X,y = X[idx,:], y[idx]\n",
        "y[y==digN]=-1.0 #set (negative class)\n",
        "y[y==digP]=+1.0 #set (positive class)\n",
        "idx = list(range(len(y)))\n",
        "random.shuffle(idx) # Just shuffle the data\n",
        "X,y = X[idx,:], y[idx]\n",
        "plt.gray();plt.matshow(X[0].reshape((8,-1))) # show an example\n",
        "\n",
        "Ntr = 15 #select number of training examples\n",
        "Xtr,Ytr = X[:Ntr], y[:Ntr] #get training examples\n",
        "Xtt,Ytt = X[Ntr:], y[Ntr:] #get validation (test) examples\n",
        "\n",
        "clf = KNeighborsClassifier(n_neighbors=1)\n",
        "clf = clf.fit(Xtr, Ytr)\n",
        "Z = clf.predict(Xtt)\n",
        "print('Accuracy of kNN:',np.mean(Z==Ytt))\n",
        "plt.gray();plt.matshow(Xtt[0].reshape((8,-1))); plt.title('Predicted:'+str(Z[0]))\n",
        "error_idx = np.nonzero(Ytt!=np.sign(Z))[0][0] # show one error example\n",
        "plt.gray();plt.matshow(Xtt[error_idx].reshape((8,-1))); plt.title('Misclassified: Predicted as '+str(Z[error_idx])) # show a misclassification\n",
        "\n",
        "\n",
        "\n"
      ],
      "execution_count": 4,
      "outputs": [
        {
          "output_type": "stream",
          "text": [
            "Accuracy of kNN: 0.9622093023255814\n"
          ],
          "name": "stdout"
        },
        {
          "output_type": "execute_result",
          "data": {
            "text/plain": [
              "Text(0.5, 1.05, 'Misclassified: Predicted as -1')"
            ]
          },
          "metadata": {
            "tags": []
          },
          "execution_count": 4
        },
        {
          "output_type": "display_data",
          "data": {
            "text/plain": [
              "<Figure size 432x288 with 0 Axes>"
            ]
          },
          "metadata": {
            "tags": []
          }
        },
        {
          "output_type": "display_data",
          "data": {
            "image/png": "[encoded data removed]",
            "text/plain": [
              "<Figure size 288x288 with 1 Axes>"
            ]
          },
          "metadata": {
            "tags": [],
            "needs_background": "light"
          }
        },
        {
          "output_type": "display_data",
          "data": {
            "image/png": "[encoded data removed]",
            "text/plain": [
              "<Figure size 288x288 with 1 Axes>"
            ]
          },
          "metadata": {
            "tags": [],
            "needs_background": "light"
          }
        },
        {
          "output_type": "display_data",
          "data": {
            "image/png": "[encoded data removed]",
            "text/plain": [
              "<Figure size 288x288 with 1 Axes>"
            ]
          },
          "metadata": {
            "tags": [],
            "needs_background": "light"
          }
        }
      ]
    },
    {
      "cell_type": "markdown",
      "metadata": {
        "id": "aPWp7xpDZI9i"
      },
      "source": [
        "1. What is the relationship between accuracy over test examples and training set size for the classifier? How can you design an experiment to do this?\n",
        "2. What is the impact of changing the value of k in the nearest neighbor classifier? Which value of k gives you the best validation performance?\n",
        "3. Here, we are using each pixel as a feature. Can you extract better features that allow you to do better classification? "
      ]
    },
    {
      "cell_type": "markdown",
      "metadata": {
        "id": "B4mgVXMNZI9i"
      },
      "source": [
        "## Using Perceptron for Digit Classification\n",
        "\n",
        "Use the codes provided above and compare the predictive performance of a perceptron for this problem."
      ]
    },
    {
      "cell_type": "code",
      "metadata": {
        "id": "gPi_uN1OZI9j"
      },
      "source": [
        "#TO DO: Write the code for perceptron based classification"
      ],
      "execution_count": null,
      "outputs": []
    }
  ]
}